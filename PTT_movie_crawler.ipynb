{
 "cells": [
  {
   "cell_type": "code",
   "execution_count": 1,
   "metadata": {},
   "outputs": [],
   "source": [
    "import requests\n",
    "from bs4 import BeautifulSoup\n",
    "import os\n",
    "import datetime\n",
    "import time\n",
    "import re\n",
    "\n",
    "headers= {\n",
    "    \"user-agent\": \"Mozilla/5.0 (Windows NT 10.0; Win64; x64) AppleWebKit/537.36 (KHTML, like Gecko) Chrome/86.0.4240.183 Safari/537.36\",\n",
    "    \"referer\": \"https://www.ptt.cc/bbs/NSwitch/index2007.html\"\n",
    "}"
   ]
  },
  {
   "cell_type": "code",
   "execution_count": null,
   "metadata": {
    "scrolled": true
   },
   "outputs": [],
   "source": [
    "url = \"https://www.ptt.cc/bbs/movie/index{}.html\"  #9389\n",
    "\n",
    "page = 9389\n",
    "while True:\n",
    "    print(page ,\"頁\")\n",
    "    \n",
    "    res = requests.get(url.format(page) , headers=headers)\n",
    "    if res.status_code == 500:\n",
    "        break\n",
    "        \n",
    "    soup = BeautifulSoup(res.text, \"html.parser\")\n",
    "    soup_list = soup.select(\"div[class='title']\")\n",
    "    for i in soup_list:\n",
    "        title = i.text\n",
    "        title = re.sub(u\"([^\\u4e00-\\u9fa5\\u0030-\\u0039\\u0041-\\u005a\\u0061-\\u007a])\",\"\",title)\n",
    "        if i.select(\"a\") == []:\n",
    "            pass\n",
    "        else:\n",
    "            try:\n",
    "                link = \"https://www.ptt.cc\" + i.select(\"a\")[0][\"href\"]\n",
    "\n",
    "                article_res = requests.get(link, headers=headers)\n",
    "                article_soup = BeautifulSoup(article_res.text, \"html.parser\")\n",
    "                article = article_soup.select(\"div[id='main-content']\")[0].text.split(\"※ 發信站\")[0]\n",
    "                tmp_date = article_soup.select(\"span[class='article-meta-value']\")[3].text\n",
    "                date = datetime.datetime.strptime(tmp_date, \"%a %b %d %H:%M:%S %Y\")\n",
    "                \n",
    "            except IndexError:\n",
    "                pass\n",
    "            \n",
    "\n",
    "            print(title)\n",
    "            print(date)\n",
    "            print(link)\n",
    "            print(article)\n",
    "            \n",
    "            if not os.path.exists(\"./ptt_movies\"):\n",
    "                os.mkdir(\"./ptt_movies\")\n",
    "            if not os.path.exists(\"./ptt_movies/{}\".format(str(date)[:7])):\n",
    "                os.mkdir(\"./ptt_movies/{}\".format(str(date)[:7]))\n",
    "            with open(\"./ptt_movies/{}/{}.txt\".format(str(date)[:7], title), \"w\", encoding=\"utf-8\") as f:\n",
    "                f.write(title + \"\\n\" + str(date) + \"\\n\" + link + \"\\n\" + article)\n",
    "    \n",
    "    \n",
    "    if date < datetime.datetime(2020,1,1):\n",
    "        break        \n",
    "    \n",
    "    page += 1"
   ]
  }
 ],
 "metadata": {
  "kernelspec": {
   "display_name": "Python 3",
   "language": "python",
   "name": "python3"
  },
  "language_info": {
   "codemirror_mode": {
    "name": "ipython",
    "version": 3
   },
   "file_extension": ".py",
   "mimetype": "text/x-python",
   "name": "python",
   "nbconvert_exporter": "python",
   "pygments_lexer": "ipython3",
   "version": "3.7.6"
  }
 },
 "nbformat": 4,
 "nbformat_minor": 4
}
