{
 "cells": [
  {
   "cell_type": "code",
   "execution_count": 1,
   "metadata": {},
   "outputs": [],
   "source": [
    "import requests\n",
    "from bs4 import BeautifulSoup\n",
    "import time\n",
    "import os"
   ]
  },
  {
   "cell_type": "code",
   "execution_count": 2,
   "metadata": {},
   "outputs": [],
   "source": [
    "headers = {\n",
    "    \"user-agent\":\"Mozilla/5.0 (Windows NT 10.0; Win64; x64) AppleWebKit/537.36 (KHTML, like Gecko) Chrome/86.0.4240.75 Safari/537.36\",\n",
    "    \"referer\":\"https://icook.tw/categories?ref=icook-footer\"\n",
    "}"
   ]
  },
  {
   "cell_type": "code",
   "execution_count": null,
   "metadata": {},
   "outputs": [],
   "source": [
    "url = \"https://icook.tw/categories\"\n",
    "\n",
    "res = requests.get(url=url,headers=headers)\n",
    "soup = BeautifulSoup(res.text, \"html.parser\")\n",
    "tmp_soup = soup.select(\"a[class='categories-all-child-link']\")\n",
    "for i in tmp_soup:\n",
    "    category = i.text\n",
    "    if not os.path.exists(\"./{}\".format(category.replace(\"\\n\",\"\").replace(\"/\",\"\"))\"):\n",
    "        os.mkdir(\"./{}\".format(category.replace(\"\\n\",\"\").replace(\"/\",\"\")))\n",
    "    category_link = \"https://icook.tw/\" + i[\"href\"]\n",
    "    print(category)\n",
    "    print(category_link)\n",
    "    \n",
    "    count_res = requests.get(url=category_link, headers=headers)\n",
    "    count_soup = BeautifulSoup(count_res.text, \"html.parser\")\n",
    "    title_count = count_soup.select(\"span[class='browse-title-count']\")[0].text\n",
    "    print(title_count)\n",
    "    \n",
    "    \n",
    "    page = 1\n",
    "    while True:\n",
    "        food_res = requests.get(url=category_link + \"?page={}\".format(page), headers=headers)\n",
    "        food_soup = BeautifulSoup(food_res.text, \"html.parser\")\n",
    "        no_food = food_soup.select(\"title\")[0].text\n",
    "        if no_food == \"愛料理上找不到您要的頁面喔～\":\n",
    "            break\n",
    "        tmp_food_soup = food_soup.select(\"li[class='browse-recipe-item']\")\n",
    "        title_count = food_soup.select(\"span[class='browse-title-count']\")[0].text\n",
    "        print(title_count)\n",
    "        \n",
    "        for i in tmp_food_soup:\n",
    "            food_title = i.a[\"aria-label\"][2:].replace(\"/\",\"\")\n",
    "            food_link = \"https://icook.tw/\" + i.a[\"href\"]\n",
    "            food_img = i.select(\"img\")[0][\"data-src\"]\n",
    "            print(food_title)\n",
    "            print(food_link)\n",
    "            print(food_img)\n",
    "            \n",
    "            recipe_res = requests.get(url=food_link, headers=headers)\n",
    "            recipe_soup = BeautifulSoup(recipe_res.text, \"html.parser\")\n",
    "            ingredient_group = recipe_soup.select(\"a[class='ingredient-search']\")\n",
    "            total_ingredient = \"\"\n",
    "            for tmp_ingredient in ingredient_group:\n",
    "                ingredient = tmp_ingredient.text\n",
    "                print(ingredient)\n",
    "                total_ingredient += ingredient +\"\\n\"\n",
    "        \n",
    "        \n",
    "            with open(\"./{}/{}.txt\".format(category.replace(\"\\n\",\"\").replace(\"/\",\"\"),food_title), \"w\", encoding=\"utf-8\") as f:\n",
    "                f.write(food_title +\"\\n\"+ food_link +\"\\n\"+ total_ingredient +\"\\n\"+ food_img)\n",
    "\n",
    "        page += 1\n",
    "    \n",
    "        if page % 3 == 0:\n",
    "            time.sleep(10)"
   ]
  },
  {
   "cell_type": "code",
   "execution_count": null,
   "metadata": {},
   "outputs": [],
   "source": []
  }
 ],
 "metadata": {
  "kernelspec": {
   "display_name": "Python 3",
   "language": "python",
   "name": "python3"
  },
  "language_info": {
   "codemirror_mode": {
    "name": "ipython",
    "version": 3
   },
   "file_extension": ".py",
   "mimetype": "text/x-python",
   "name": "python",
   "nbconvert_exporter": "python",
   "pygments_lexer": "ipython3",
   "version": "3.7.6"
  }
 },
 "nbformat": 4,
 "nbformat_minor": 4
}
