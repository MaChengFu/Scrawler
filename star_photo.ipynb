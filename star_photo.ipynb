{
 "cells": [
  {
   "cell_type": "code",
   "execution_count": 1,
   "metadata": {},
   "outputs": [],
   "source": [
    "import requests\n",
    "import json\n",
    "import time\n",
    "import os\n",
    "\n",
    "headers= {\n",
    "    \"user-agent\": \"Mozilla/5.0 (Windows NT 10.0; Win64; x64) AppleWebKit/537.36 (KHTML, like Gecko) Chrome/86.0.4240.183 Safari/537.36\",\n",
    "    \"referer\": \"https://pic.sogou.com/pics?query=%E9%87%91%E5%9F%8E%E6%AD%A6&w=05009900&_asf=pic.sogou.com&_ast=1605721106&sc=index&ie=utf8&sut=4137&sst0=1605721106177\"\n",
    "}"
   ]
  },
  {
   "cell_type": "code",
   "execution_count": null,
   "metadata": {
    "scrolled": true
   },
   "outputs": [],
   "source": [
    "url = \"https://pic.sogou.com/napi/pc/searchList?mode=1&start={}&xml_len=48&query={}\"\n",
    "\n",
    "star_list = [\"Ryan Gosling\",\"Chris Hemsworth\",\"Lisa\"]\n",
    "\n",
    "for star in star_list:\n",
    "    print(star)\n",
    "    if not os.path.exists(\"./star_photo/\"):\n",
    "        os.mkdir(\"./star_photo/\")\n",
    "    if not os.path.exists(\"./star_photo/{}/\".format(star)):\n",
    "        os.mkdir(\"./star_photo/{}/\".format(star))\n",
    "\n",
    "    for page in range(48,97,48):\n",
    "        \n",
    "        time.sleep(100)\n",
    "        res = requests.get(url.format(page,star), headers)\n",
    "        res_json = json.loads(res.text)\n",
    "        pic_list = res_json[\"data\"][\"items\"]\n",
    "        for tmp_pic in pic_list:\n",
    "            pic_url = tmp_pic[\"picUrl\"]\n",
    "\n",
    "            res_pic = requests.get(pic_url, headers=headers)\n",
    "            pic_source = res_pic.content\n",
    "\n",
    "            path = \"./star_photo/{}/\".format(star) + pic_url.split(\"/\")[-1]\n",
    "            try:\n",
    "                with open(path, \"wb\") as f:\n",
    "                    f.write(pic_source)\n",
    "            except OSError:\n",
    "                pass\n",
    "\n",
    "            print(pic_url)\n"
   ]
  },
  {
   "cell_type": "code",
   "execution_count": null,
   "metadata": {},
   "outputs": [],
   "source": []
  }
 ],
 "metadata": {
  "kernelspec": {
   "display_name": "Python 3",
   "language": "python",
   "name": "python3"
  },
  "language_info": {
   "codemirror_mode": {
    "name": "ipython",
    "version": 3
   },
   "file_extension": ".py",
   "mimetype": "text/x-python",
   "name": "python",
   "nbconvert_exporter": "python",
   "pygments_lexer": "ipython3",
   "version": "3.7.6"
  }
 },
 "nbformat": 4,
 "nbformat_minor": 4
}
